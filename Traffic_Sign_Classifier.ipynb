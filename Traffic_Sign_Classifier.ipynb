{
 "cells": [
  {
   "cell_type": "markdown",
   "metadata": {},
   "source": [
    "# Self-Driving Car Engineer Nanodegree\n",
    "\n",
    "## Deep Learning\n",
    "\n",
    "## Project: Build a Traffic Sign Recognition Classifier\n",
    "\n",
    "In this notebook, a template is provided for you to implement your functionality in stages, which is required to successfully complete this project. If additional code is required that cannot be included in the notebook, be sure that the Python code is successfully imported and included in your submission if necessary. \n",
    "\n",
    "> **Note**: Once you have completed all of the code implementations, you need to finalize your work by exporting the iPython Notebook as an HTML document. Before exporting the notebook to html, all of the code cells need to have been run so that reviewers can see the final implementation and output. You can then export the notebook by using the menu above and navigating to  \\n\",\n",
    "    \"**File -> Download as -> HTML (.html)**. Include the finished document along with this notebook as your submission. \n",
    "\n",
    "In addition to implementing code, there is a writeup to complete. The writeup should be completed in a separate file, which can be either a markdown file or a pdf document. There is a [write up template](https://github.com/udacity/CarND-Traffic-Sign-Classifier-Project/blob/master/writeup_template.md) that can be used to guide the writing process. Completing the code template and writeup template will cover all of the [rubric points](https://review.udacity.com/#!/rubrics/481/view) for this project.\n",
    "\n",
    "The [rubric](https://review.udacity.com/#!/rubrics/481/view) contains \"Stand Out Suggestions\" for enhancing the project beyond the minimum requirements. The stand out suggestions are optional. If you decide to pursue the \"stand out suggestions\", you can include the code in this Ipython notebook and also discuss the results in the writeup file.\n",
    "\n",
    "\n",
    ">**Note:** Code and Markdown cells can be executed using the **Shift + Enter** keyboard shortcut. In addition, Markdown cells can be edited by typically double-clicking the cell to enter edit mode."
   ]
  },
  {
   "cell_type": "markdown",
   "metadata": {},
   "source": [
    "---\n",
    "## Step 0: Load The Data"
   ]
  },
  {
   "cell_type": "code",
   "execution_count": 1,
   "metadata": {
    "collapsed": false
   },
   "outputs": [],
   "source": [
    "# Load pickled data\n",
    "import pickle\n",
    "import os\n",
    "\n",
    "\n",
    "# Get current directory path\n",
    "dirPath = os.path.dirname(os.getcwd())\n",
    "\n",
    "# File paths for training, valiation and testing data sets\n",
    "training_file = os.path.join(dirPath, \"traffic-signs-data/train.p\")\n",
    "validation_file = os.path.join(dirPath, \"traffic-signs-data/valid.p\")\n",
    "testing_file = os.path.join(dirPath, \"traffic-signs-data/test.p\")\n",
    "\n",
    "with open(training_file, mode='rb') as f:\n",
    "    train = pickle.load(f)\n",
    "with open(validation_file, mode='rb') as f:\n",
    "    valid = pickle.load(f)\n",
    "with open(testing_file, mode='rb') as f:\n",
    "    test = pickle.load(f)\n",
    "    \n",
    "X_train, y_train = train['features'], train['labels']\n",
    "X_valid, y_valid = valid['features'], valid['labels']\n",
    "X_test, y_test = test['features'], test['labels']"
   ]
  },
  {
   "cell_type": "markdown",
   "metadata": {},
   "source": [
    "---\n",
    "\n",
    "## Step 1: Dataset Summary & Exploration\n",
    "\n",
    "The pickled data is a dictionary with 4 key/value pairs:\n",
    "\n",
    "- `'features'` is a 4D array containing raw pixel data of the traffic sign images, (num examples, width, height, channels).\n",
    "- `'labels'` is a 1D array containing the label/class id of the traffic sign. The file `signnames.csv` contains id -> name mappings for each id.\n",
    "- `'sizes'` is a list containing tuples, (width, height) representing the original width and height the image.\n",
    "- `'coords'` is a list containing tuples, (x1, y1, x2, y2) representing coordinates of a bounding box around the sign in the image. **THESE COORDINATES ASSUME THE ORIGINAL IMAGE. THE PICKLED DATA CONTAINS RESIZED VERSIONS (32 by 32) OF THESE IMAGES**\n",
    "\n",
    "Complete the basic data summary below. Use python, numpy and/or pandas methods to calculate the data summary rather than hard coding the results. For example, the [pandas shape method](http://pandas.pydata.org/pandas-docs/stable/generated/pandas.DataFrame.shape.html) might be useful for calculating some of the summary results. "
   ]
  },
  {
   "cell_type": "markdown",
   "metadata": {},
   "source": [
    "### Provide a Basic Summary of the Data Set Using Python, Numpy and/or Pandas"
   ]
  },
  {
   "cell_type": "code",
   "execution_count": 2,
   "metadata": {
    "collapsed": true
   },
   "outputs": [
    {
     "name": "stdout",
     "output_type": "stream",
     "text": [
      "Number of training examples = 34799\n",
      "Number of validation examples = 4410\n",
      "Number of testing examples = 12630\n",
      "Image data shape = (32, 32, 3)\n",
      "Number of classes = 43\n"
     ]
    }
   ],
   "source": [
    "### Replace each question mark with the appropriate value. \n",
    "### Use python, pandas or numpy methods rather than hard coding the results\n",
    "\n",
    "# TODO: Number of training examples\n",
    "n_train = len(X_train)\n",
    "\n",
    "# TODO: Number of validation examples\n",
    "n_validation = len(X_valid)\n",
    "\n",
    "# TODO: Number of testing examples.\n",
    "n_test = len(X_test)\n",
    "\n",
    "# TODO: What's the shape of an traffic sign image?\n",
    "image_shape = X_train.shape[1:]\n",
    "\n",
    "# TODO: How many unique classes/labels there are in the dataset.\n",
    "n_classes = len(set(y_train))\n",
    "\n",
    "print(\"Number of training examples =\", n_train)\n",
    "print(\"Number of validation examples =\", n_validation)\n",
    "print(\"Number of testing examples =\", n_test)\n",
    "print(\"Image data shape =\", image_shape)\n",
    "print(\"Number of classes =\", n_classes)"
   ]
  },
  {
   "cell_type": "markdown",
   "metadata": {},
   "source": [
    "### Include an exploratory visualization of the dataset"
   ]
  },
  {
   "cell_type": "markdown",
   "metadata": {},
   "source": [
    "Visualize the German Traffic Signs Dataset using the pickled file(s). This is open ended, suggestions include: plotting traffic sign images, plotting the count of each sign, etc. \n",
    "\n",
    "The [Matplotlib](http://matplotlib.org/) [examples](http://matplotlib.org/examples/index.html) and [gallery](http://matplotlib.org/gallery.html) pages are a great resource for doing visualizations in Python.\n",
    "\n",
    "**NOTE:** It's recommended you start with something simple first. If you wish to do more, come back to it after you've completed the rest of the sections. It can be interesting to look at the distribution of classes in the training, validation and test set. Is the distribution the same? Are there more examples of some classes than others?"
   ]
  },
  {
   "cell_type": "code",
   "execution_count": 3,
   "metadata": {
    "collapsed": true
   },
   "outputs": [],
   "source": [
    "### Data exploration visualization code goes here.\n",
    "### Feel free to use as many code cells as needed.\n",
    "import matplotlib.pyplot as plt\n",
    "import numpy as np\n",
    "import random\n",
    "\n",
    "# Visualizations will be shown in the notebook.\n",
    "#%matplotlib inline\n",
    "\n",
    "output_dir = \"output-images\"\n",
    "\n",
    "def show_traffic_sign(X, y, image_name, old_X = None):\n",
    "\n",
    "    # Plotting a random traffic sign image\n",
    "    index = random.randint(0, len(X))\n",
    "    image = X[index].squeeze()\n",
    "\n",
    "    if old_X is None:\n",
    "        plt.imshow(image)\n",
    "        plt.title(\"Label = {0}\".format(y[index]))\n",
    "    \n",
    "    else:\n",
    "        f, (ax1, ax2) = plt.subplots(1, 2, figsize=(20, 9))\n",
    "        f.tight_layout(pad=1.0)\n",
    "        f.suptitle(\"Label = {0}\".format(y[index]), fontsize=30)\n",
    "        \n",
    "        old_image = old_X[index%n_train].squeeze()\n",
    "        ax1.imshow(old_image)\n",
    "        \n",
    "        ax2.imshow(image)\n",
    "        plt.subplots_adjust(left=0.1, right=0.9, top=1, bottom=0, wspace = 0.1)\n",
    "    \n",
    "    plt.savefig(os.path.join(output_dir, image_name))\n",
    "    plt.close()\n",
    " "
   ]
  },
  {
   "cell_type": "code",
   "execution_count": 3,
   "metadata": {
    "collapsed": true
   },
   "outputs": [],
   "source": [
    "# Plotting a traffic sign example\n",
    "show_traffic_sign(X_train, y_train, 'Example_traffic_sign')\n",
    "\n",
    "# Plotting histograms of datasets\n",
    "fig, axs = plt.subplots(3, sharex=True, sharey=False)\n",
    "bins = np.arange(0, 44, 1)\n",
    "\n",
    "axs[0].hist(y_train, bins=bins, alpha=0.5, rwidth=0.85)\n",
    "axs[0].set_title(\"Training dataset\")\n",
    "axs[1].hist(y_valid, bins=bins, alpha=0.5, rwidth=0.85)\n",
    "axs[1].set_title(\"Validation dataset\")\n",
    "axs[2].hist(y_test, bins=bins, alpha=0.5, rwidth=0.85)\n",
    "axs[2].set_title(\"Testing dataset\")\n",
    "\n",
    "# Hide x labels and tick labels for all but bottom plot.\n",
    "for ax in axs:\n",
    "    ax.label_outer()\n",
    "\n",
    "fig.tight_layout(pad=1.0)\n",
    "        \n",
    "plt.savefig(os.path.join(output_dir, 'Histograms'))\n",
    "plt.close()"
   ]
  },
  {
   "cell_type": "markdown",
   "metadata": {},
   "source": [
    "----\n",
    "\n",
    "## Step 2: Design and Test a Model Architecture\n",
    "\n",
    "Design and implement a deep learning model that learns to recognize traffic signs. Train and test your model on the [German Traffic Sign Dataset](http://benchmark.ini.rub.de/?section=gtsrb&subsection=dataset).\n",
    "\n",
    "The LeNet-5 implementation shown in the [classroom](https://classroom.udacity.com/nanodegrees/nd013/parts/fbf77062-5703-404e-b60c-95b78b2f3f9e/modules/6df7ae49-c61c-4bb2-a23e-6527e69209ec/lessons/601ae704-1035-4287-8b11-e2c2716217ad/concepts/d4aca031-508f-4e0b-b493-e7b706120f81) at the end of the CNN lesson is a solid starting point. You'll have to change the number of classes and possibly the preprocessing, but aside from that it's plug and play! \n",
    "\n",
    "With the LeNet-5 solution from the lecture, you should expect a validation set accuracy of about 0.89. To meet specifications, the validation set accuracy will need to be at least 0.93. It is possible to get an even higher accuracy, but 0.93 is the minimum for a successful project submission. \n",
    "\n",
    "There are various aspects to consider when thinking about this problem:\n",
    "\n",
    "- Neural network architecture (is the network over or underfitting?)\n",
    "- Play around preprocessing techniques (normalization, rgb to grayscale, etc)\n",
    "- Number of examples per label (some have more than others).\n",
    "- Generate fake data.\n",
    "\n",
    "Here is an example of a [published baseline model on this problem](http://yann.lecun.com/exdb/publis/pdf/sermanet-ijcnn-11.pdf). It's not required to be familiar with the approach used in the paper but, it's good practice to try to read papers like these."
   ]
  },
  {
   "cell_type": "markdown",
   "metadata": {},
   "source": [
    "### Pre-process the Data Set (normalization, grayscale, etc.)"
   ]
  },
  {
   "cell_type": "markdown",
   "metadata": {},
   "source": [
    "Minimally, the image data should be normalized so that the data has mean zero and equal variance. For image data, `(pixel - 128)/ 128` is a quick way to approximately normalize the data and can be used in this project. \n",
    "\n",
    "Other pre-processing steps are optional. You can try different techniques to see if it improves performance. \n",
    "\n",
    "Use the code cell (or multiple code cells, if necessary) to implement the first step of your project."
   ]
  },
  {
   "cell_type": "markdown",
   "metadata": {},
   "source": [
    "### Pre-processing\n",
    "\n",
    "To increase the training set, I generate fake data  by adding 5 transformed versions of the original training set, yielding 173 995 samples in total. Samples are randomly perturbed in position ([-2,2] pixels), in scale ([.9,1.1] ratio) and rotation ([-15,+15] degrees).\n",
    "build a jittered dataset.  "
   ]
  },
  {
   "cell_type": "code",
   "execution_count": 4,
   "metadata": {
    "collapsed": true
   },
   "outputs": [],
   "source": [
    "### Preprocess the data here. It is required to normalize the data. Other preprocessing steps could include \n",
    "### converting to grayscale, etc.\n",
    "### Feel free to use as many code cells as needed.\n",
    "import cv2\n",
    "is_features_normal = False\n",
    "has_fake_data = False\n",
    "\n",
    "def translate_image(image):\n",
    "    '''Randomly perturbe an image in position ([-2,2] pixels)'''\n",
    "    \n",
    "    num_rows, num_cols = image.shape[:2]\n",
    "    \n",
    "    # Creating a translation matrix\n",
    "    transform = random.randint(0, 3)\n",
    "    if transform == 0:\n",
    "        translation_matrix = np.float32([ [1,0,2], [0,1,2] ])\n",
    "    if transform == 1:\n",
    "        translation_matrix = np.float32([ [1,0,-2], [0,1,2] ])\n",
    "    if transform == 2:\n",
    "        translation_matrix = np.float32([ [1,0,-2], [0,1,-2] ])\n",
    "    if transform == 3:\n",
    "        translation_matrix = np.float32([ [1,0,2], [0,1,-2] ])\n",
    "        \n",
    "    result = cv2.warpAffine(image, translation_matrix, (num_cols,num_rows))\n",
    "\n",
    "    return result\n",
    "\n",
    "def rotate_image(image):\n",
    "    '''Randomly perturbe an image in rotation ([-15,+15] degrees)'''\n",
    "    \n",
    "    angle = -15 + 30*random.randint(0, 1)\n",
    "    \n",
    "    image_center = tuple(np.array(image.shape[1::-1]) / 2)\n",
    "    rot_mat = cv2.getRotationMatrix2D(image_center, angle, 1.0)\n",
    "    result = cv2.warpAffine(image, rot_mat, image.shape[1::-1], flags=cv2.INTER_LINEAR)\n",
    "    \n",
    "    return result\n",
    "\n",
    "def resize_image(image):\n",
    "    '''Randomly perturbe an image in scale ([.9,1.1] ratio)'''\n",
    "    \n",
    "    num_rows, num_cols = image.shape[:2]\n",
    "    \n",
    "    size = 28 + 8*random.randint(0, 1)\n",
    "    result = cv2.resize(image, (size,size), interpolation=cv2.INTER_AREA)\n",
    "    \n",
    "    if size == 36:\n",
    "        result = result[2:34,2:34,:]\n",
    "    if size == 28:\n",
    "        result = np.pad(result, [(2,2), (2,2), (0,0)], 'constant', constant_values=int(np.mean(result)))\n",
    "    \n",
    "    return result\n",
    "\n",
    "def transform_image(image_data):\n",
    "    '''\n",
    "    Transform the image data set randomly perturbed in position ([-2,2] pixels), \n",
    "    in scale ([.9,1.1] ratio) and rotation ([-15,+15] degrees).\n",
    "    '''\n",
    "    fake_image_data = np.zeros(image_data.shape, dtype='uint8')\n",
    "    \n",
    "    for i in range(image_data.shape[0]):\n",
    "        # Image translation    \n",
    "        fake_image = translate_image(image_data[i])\n",
    "\n",
    "        # Image Resize    \n",
    "        fake_image = resize_image(fake_image)\n",
    "\n",
    "        # Image Rotation    \n",
    "        fake_image_data[i] = rotate_image(fake_image)\n",
    "\n",
    "    return fake_image_data"
   ]
  },
  {
   "cell_type": "code",
   "execution_count": 5,
   "metadata": {
    "collapsed": true
   },
   "outputs": [],
   "source": [
    "# Implementation of Min-Max scaling for grayscale image data\n",
    "def normalize_grayscale(image_data):\n",
    "    \"\"\"\n",
    "    Normalize the image data with Min-Max scaling to a range of [0.1, 0.9]\n",
    "    :param image_data: The image data to be normalized\n",
    "    :return: Normalized image data\n",
    "    \"\"\"\n",
    "      \n",
    "    a = 0.1\n",
    "    b = 0.9   \n",
    "    norm_gray_image = np.zeros(image_data.shape[:-1])\n",
    "    \n",
    "    for i in range(image_data.shape[0]): \n",
    "        yuv=cv2.cvtColor(image_data[i],cv2.COLOR_BGR2YUV)\n",
    "        y_channel = yuv[:,:,0]\n",
    "        \n",
    "        min_data = np.min(y_channel)\n",
    "        max_data = np.max(y_channel)\n",
    "        norm_gray_image[i] = a + ((y_channel - min_data)*(b-a))/(max_data - min_data)\n",
    "    \n",
    "    norm_gray_image = np.reshape(norm_gray_image, image_data.shape[:-1] + (1,))\n",
    "    return norm_gray_image\n",
    "\n",
    "# Normalize the image data with formula (pixel - 128)/ 128\n",
    "def normalize_image(image_data):\n",
    "    \"\"\"\n",
    "    Normalize the image data with formula (pixel - 128)/ 128.\n",
    "    :param image_data: The image data to be normalized\n",
    "    :return: Normalized image data\n",
    "    \"\"\"\n",
    "    new_image_data = np.subtract(image_data.astype(int),128)/128\n",
    "    return new_image_data\n"
   ]
  },
  {
   "cell_type": "code",
   "execution_count": 6,
   "metadata": {},
   "outputs": [
    {
     "name": "stdout",
     "output_type": "stream",
     "text": [
      "Generate fake data  1\n",
      "Generate fake data  2\n",
      "Generate fake data  3\n",
      "Generate fake data  4\n",
      "min value = 0.1 mean value =  0.40535822644917 max value =  0.9000000000000001\n"
     ]
    }
   ],
   "source": [
    "# Generate fake data\n",
    "n = 5\n",
    "debug = True\n",
    "if not has_fake_data:\n",
    "    new_X_train_gray_norm = np.zeros((n*n_train,) + X_train.shape[1:-1] + (1,))\n",
    "\n",
    "    new_X_train_gray_norm[0:n_train] = normalize_grayscale(X_train)\n",
    "    new_y_train = y_train\n",
    "\n",
    "    for i in range(n-1):\n",
    "        print(\"Generate fake data \", i+1)\n",
    "        new_X_train_gray_norm[(i+1)*n_train:(i+2)*n_train] = normalize_grayscale(transform_image(X_train))\n",
    "        new_y_train = np.hstack((new_y_train,y_train))\n",
    "    has_fake_data = True\n",
    "\n",
    "if debug:\n",
    "    show_traffic_sign_example(new_X_train_gray_norm[0:n_train], new_y_train[0:n_train], 'Preprocessed-image.png', X_train)\n",
    "    show_traffic_sign_example(new_X_train_gray_norm[n_train:], new_y_train[n_train:], 'Augmented-image.png', X_train)\n",
    "    print(\"min value =\" , np.min(new_X_train_gray_norm), \"mean value = \", np.mean(new_X_train_gray_norm),\n",
    "          \"max value = \", np.max(new_X_train_gray_norm))\n"
   ]
  },
  {
   "cell_type": "code",
   "execution_count": 7,
   "metadata": {},
   "outputs": [
    {
     "name": "stdout",
     "output_type": "stream",
     "text": [
      "Input deep = 1\n"
     ]
    }
   ],
   "source": [
    "if not is_features_normal:\n",
    "    #X_train_norm = normalize_image(X_train)\n",
    "    #X_valid_norm = normalize_image(X_valid)\n",
    "    #X_test_norm = normalize_image(X_test)\n",
    "    \n",
    "    X_train_gray_norm = normalize_grayscale(X_train)\n",
    "    X_valid_gray_norm = normalize_grayscale(X_valid)\n",
    "    X_test_gray_norm = normalize_grayscale(X_test)\n",
    "    is_features_normal = True\n",
    "\n",
    "x_train = new_X_train_gray_norm\n",
    "#x_train = X_train_gray_norm\n",
    "y_train = new_y_train\n",
    "x_valid = X_valid_gray_norm\n",
    "x_test  = X_test_gray_norm\n",
    "n_color_channel = x_train.shape[-1]\n",
    "\n",
    "print(\"Input deep =\", n_color_channel)"
   ]
  },
  {
   "cell_type": "markdown",
   "metadata": {},
   "source": [
    "### Model Architecture\n",
    "**Layer 1: Convolutional.** The input shape is 32x32xn_color_channel. The convolutional filter size is 5x5x32. The output shape will be 28x28x32.\n",
    "\n",
    "**Activation.** 'relu' activation function.\n",
    "\n",
    "**Dropout.** \n",
    "\n",
    "**Pooling.** Max pooling with stride 2x2. The output shape will be 14x14x32.\n",
    "\n",
    "**Layer 2: Convolutional.** The input shape is 14x14x32. The convolutional filter size is 5x5x64. The output shape will be 10x10x64.\n",
    "\n",
    "**Activation.** 'relu' activation function.\n",
    "\n",
    "**Dropout.** \n",
    "\n",
    "**Pooling.** Max pooling with stride 2x2. The output shape will be 5x5x64.\n",
    "\n",
    "**Flatten.** Flatten the output shape of the final pooling layer such that it's 1D. The easiest way to do is by using `tf.contrib.layers.flatten`..\n",
    "\n",
    "**Layer 3: Fully Connected.** Fully Connected layer with input = 1600 and Output = 512.\n",
    "\n",
    "**Activation.** 'relu' activation function.\n",
    "\n",
    "**Dropout.** \n",
    "\n",
    "**Layer 4: Fully Connected.** Fully Connected layer with input = 512 and Output = 256.\n",
    "\n",
    "**Activation.** 'relu' activation function.\n",
    "\n",
    "**Dropout.** \n",
    "\n",
    "**Layer 5: Fully Connected (Logits).** Fully Connected layer with input = 256 and Output = n_classes.\n",
    "\n",
    "### Output\n",
    "The ouput is the result ot the layer 5"
   ]
  },
  {
   "cell_type": "code",
   "execution_count": 14,
   "metadata": {
    "collapsed": true
   },
   "outputs": [],
   "source": [
    "### Define your architecture here.\n",
    "### Feel free to use as many code cells as needed.\n",
    "import tensorflow as tf\n",
    "from tensorflow.contrib.layers import flatten\n",
    "from sklearn.utils import shuffle\n",
    "\n",
    "EPOCHS = 15\n",
    "BATCH_SIZE = 128\n",
    "\n",
    "\n",
    "def LeNet(x):    \n",
    "    # Arguments used for tf.truncated_normal, randomly defines variables for the weights and biases for each layer\n",
    "    mu = 0\n",
    "    sigma = 0.1\n",
    "    \n",
    "    global layer_1, layer_2, layer_3, layer_4\n",
    "    \n",
    "    # Layer 1: Convolutional. Input = 32x32xn_color_channel. Output = 28x28x32.\n",
    "    conv1_W = tf.Variable(tf.truncated_normal(shape = (5, 5, n_color_channel, 32), mean = mu, stddev = sigma))\n",
    "    conv1_b = tf.Variable(tf.zeros(32))\n",
    "    strides = [1, 1, 1, 1]\n",
    "    padding = 'VALID'\n",
    "    layer_1 = tf.nn.conv2d(x, conv1_W, strides, padding) + conv1_b\n",
    "\n",
    "    # Activation.\n",
    "    layer_1 = tf.nn.relu(layer_1)\n",
    "    \n",
    "    # Dropout.\n",
    "    layer_1 = tf.nn.dropout(layer_1, keep_prob)\n",
    "    \n",
    "    # Pooling. Input = 28x28x32. Output = 14x14x32.\n",
    "    ksize = [1, 2, 2, 1]\n",
    "    strides = [1, 2, 2, 1]\n",
    "    padding = 'SAME'\n",
    "    layer_1 = tf.nn.max_pool(layer_1, ksize, strides, padding)\n",
    "\n",
    "    # Layer 2: Convolutional. Input = 14x14x32. Output = 10x10x64.\n",
    "    conv2_W = tf.Variable(tf.truncated_normal(shape = (5, 5, 32, 64), mean = mu, stddev = sigma))\n",
    "    conv2_b = tf.Variable(tf.zeros(64))\n",
    "    strides = [1, 1, 1, 1]\n",
    "    padding = 'VALID'\n",
    "    layer_2 = tf.nn.conv2d(layer_1, conv2_W, strides, padding) + conv2_b\n",
    "    \n",
    "    # Activation.\n",
    "    layer_2 = tf.nn.relu(layer_2)\n",
    "    \n",
    "    # Dropout.\n",
    "    layer_2 = tf.nn.dropout(layer_2, keep_prob)\n",
    "\n",
    "    # Pooling. Input = 10x10x64. Output = 5x5x64.\n",
    "    ksize = [1, 2, 2, 1]\n",
    "    strides = [1, 2, 2, 1]\n",
    "    padding = 'SAME'\n",
    "    layer_2 = tf.nn.max_pool(layer_2, ksize, strides, padding)\n",
    "\n",
    "    # Flatten. Input = 5x5x64. Output = 1600\n",
    "    layer_2 = flatten(layer_2)\n",
    "    \n",
    "    # Layer 3: Fully Connected. Input = 1600. Output = 512.\n",
    "    fc1_W = tf.Variable(tf.truncated_normal(shape = (1600, 512), mean = mu, stddev = sigma))\n",
    "    fc1_b = tf.Variable(tf.zeros([512]))\n",
    "    layer_3 = tf.add(tf.matmul(layer_2, fc1_W), fc1_b)\n",
    "    \n",
    "    # Activation.\n",
    "    layer_3 = tf.nn.relu(layer_3)\n",
    "    \n",
    "    # Dropout.\n",
    "    layer_3 = tf.nn.dropout(layer_3, keep_prob)\n",
    "\n",
    "    # Layer 4: Fully Connected. Input = 512. Output = 256.\n",
    "    fc2_W = tf.Variable(tf.truncated_normal(shape = (512, 256), mean = mu, stddev = sigma))\n",
    "    fc2_b = tf.Variable(tf.zeros([256]))\n",
    "    layer_4 = tf.add(tf.matmul(layer_3, fc2_W), fc2_b)\n",
    "    \n",
    "    # Activation.\n",
    "    layer_4 = tf.nn.relu(layer_4)\n",
    "    \n",
    "    # Dropout.\n",
    "    layer_4 = tf.nn.dropout(layer_4, keep_prob)\n",
    "\n",
    "    # Layer 5: Fully Connected. Input = 256. Output = n_classes.\n",
    "    fc3_W = tf.Variable(tf.truncated_normal(shape = (256, n_classes), mean = mu, stddev = sigma))\n",
    "    fc3_b = tf.Variable(tf.zeros([n_classes]))\n",
    "    logits = tf.add(tf.matmul(layer_4, fc3_W), fc3_b)\n",
    "    \n",
    "    return logits"
   ]
  },
  {
   "cell_type": "markdown",
   "metadata": {},
   "source": [
    "## Features and Labels\n",
    "\n",
    "`x` is a placeholder for a batch of input images.\n",
    "`y` is a placeholder for a batch of output labels.\n"
   ]
  },
  {
   "cell_type": "code",
   "execution_count": 15,
   "metadata": {},
   "outputs": [],
   "source": [
    "x = tf.placeholder(tf.float32, (None, 32, 32, n_color_channel))\n",
    "y = tf.placeholder(tf.int32, (None))\n",
    "keep_prob = tf.placeholder(tf.float32)\n",
    "one_hot_y = tf.one_hot(y, n_classes)"
   ]
  },
  {
   "cell_type": "markdown",
   "metadata": {},
   "source": [
    "### Train, Validate and Test the Model"
   ]
  },
  {
   "cell_type": "markdown",
   "metadata": {},
   "source": [
    "## Training Pipeline\n",
    "Create a training pipeline that uses the model to classify the traffic sign data."
   ]
  },
  {
   "cell_type": "code",
   "execution_count": 16,
   "metadata": {},
   "outputs": [],
   "source": [
    "rate = 0.001\n",
    "\n",
    "logits = LeNet(x)\n",
    "cross_entropy = tf.nn.softmax_cross_entropy_with_logits(labels=one_hot_y, logits=logits)\n",
    "loss_operation = tf.reduce_mean(cross_entropy)\n",
    "optimizer = tf.train.AdamOptimizer(learning_rate = rate)\n",
    "training_operation = optimizer.minimize(loss_operation)"
   ]
  },
  {
   "cell_type": "markdown",
   "metadata": {},
   "source": [
    "## Model Evaluation\n",
    "Evaluate how well the loss and accuracy of the model for a given dataset."
   ]
  },
  {
   "cell_type": "code",
   "execution_count": 17,
   "metadata": {},
   "outputs": [],
   "source": [
    "correct_prediction = tf.equal(tf.argmax(logits, 1), tf.argmax(one_hot_y, 1))\n",
    "accuracy_operation = tf.reduce_mean(tf.cast(correct_prediction, tf.float32))\n",
    "saver = tf.train.Saver()\n",
    "\n",
    "def evaluate(X_data, y_data):\n",
    "    num_examples = len(X_data)\n",
    "    total_accuracy = 0\n",
    "    sess = tf.get_default_session()\n",
    "    for offset in range(0, num_examples, BATCH_SIZE):\n",
    "        batch_x, batch_y = X_data[offset:offset+BATCH_SIZE], y_data[offset:offset+BATCH_SIZE]\n",
    "        accuracy = sess.run(accuracy_operation, feed_dict={x: batch_x, y: batch_y, keep_prob: 1})\n",
    "        total_accuracy += (accuracy * len(batch_x))\n",
    "    return total_accuracy / num_examples"
   ]
  },
  {
   "cell_type": "markdown",
   "metadata": {},
   "source": [
    "## Model Incorrect Labels\n",
    "Return the incorrect labels to analyze which classes have more incorrect predictions"
   ]
  },
  {
   "cell_type": "code",
   "execution_count": 18,
   "metadata": {},
   "outputs": [],
   "source": [
    "incorrect_mask = tf.not_equal(tf.argmax(logits, 1), tf.argmax(one_hot_y, 1))\n",
    "saver = tf.train.Saver()\n",
    "\n",
    "def incorrect_predictions(X_data, y_data):\n",
    "    num_examples = len(X_data)\n",
    "    incorrect_labels = np.zeros(len(y_data))\n",
    "    total_accuracy = 0\n",
    "    sess = tf.get_default_session()\n",
    "    for offset in range(0, num_examples, BATCH_SIZE):\n",
    "        batch_x, batch_y = X_data[offset:offset+BATCH_SIZE], y_data[offset:offset+BATCH_SIZE]\n",
    "        mask = sess.run(incorrect_mask, feed_dict={x: batch_x, y: batch_y, keep_prob: 1})\n",
    "        incorrect_labels[offset:offset+BATCH_SIZE] = mask.astype('int')\n",
    "    return incorrect_labels"
   ]
  },
  {
   "cell_type": "markdown",
   "metadata": {},
   "source": [
    "A validation set can be used to assess how well the model is performing. A low accuracy on the training and validation\n",
    "sets imply underfitting. A high accuracy on the training set but low accuracy on the validation set implies overfitting."
   ]
  },
  {
   "cell_type": "markdown",
   "metadata": {},
   "source": [
    "## Train the Model\n",
    "Run the training data through the training pipeline to train the model.\n",
    "\n",
    "Before each epoch, shuffle the training set.\n",
    "\n",
    "After each epoch, measure the loss and accuracy of the validation set.\n",
    "\n",
    "Save the model after training."
   ]
  },
  {
   "cell_type": "code",
   "execution_count": 19,
   "metadata": {
    "collapsed": true
   },
   "outputs": [
    {
     "name": "stdout",
     "output_type": "stream",
     "text": [
      "Training...\n",
      "\n",
      "EPOCH 1 ...\n",
      "Training Accuracy = 0.765\n",
      "Validation Accuracy = 0.834\n",
      "\n",
      "EPOCH 2 ...\n",
      "Training Accuracy = 0.914\n",
      "Validation Accuracy = 0.934\n",
      "\n",
      "EPOCH 3 ...\n",
      "Training Accuracy = 0.948\n",
      "Validation Accuracy = 0.953\n",
      "\n",
      "EPOCH 4 ...\n",
      "Training Accuracy = 0.970\n",
      "Validation Accuracy = 0.967\n",
      "\n",
      "EPOCH 5 ...\n",
      "Training Accuracy = 0.975\n",
      "Validation Accuracy = 0.968\n",
      "\n",
      "EPOCH 6 ...\n",
      "Training Accuracy = 0.983\n",
      "Validation Accuracy = 0.979\n",
      "\n",
      "EPOCH 7 ...\n",
      "Training Accuracy = 0.983\n",
      "Validation Accuracy = 0.983\n",
      "\n",
      "EPOCH 8 ...\n",
      "Training Accuracy = 0.985\n",
      "Validation Accuracy = 0.975\n",
      "\n",
      "EPOCH 9 ...\n",
      "Training Accuracy = 0.986\n",
      "Validation Accuracy = 0.980\n",
      "\n",
      "EPOCH 10 ...\n",
      "Training Accuracy = 0.989\n",
      "Validation Accuracy = 0.985\n",
      "\n",
      "EPOCH 11 ...\n",
      "Training Accuracy = 0.991\n",
      "Validation Accuracy = 0.985\n",
      "\n",
      "EPOCH 12 ...\n",
      "Training Accuracy = 0.992\n",
      "Validation Accuracy = 0.987\n",
      "\n",
      "EPOCH 13 ...\n",
      "Training Accuracy = 0.989\n",
      "Validation Accuracy = 0.980\n",
      "\n",
      "EPOCH 14 ...\n",
      "Training Accuracy = 0.995\n",
      "Validation Accuracy = 0.988\n",
      "\n",
      "EPOCH 15 ...\n",
      "Training Accuracy = 0.995\n",
      "Validation Accuracy = 0.986\n",
      "\n",
      "Model saved\n"
     ]
    }
   ],
   "source": [
    "### Train your model here.\n",
    "### Calculate and report the accuracy on the training and validation set.\n",
    "### Once a final model architecture is selected, \n",
    "### the accuracy on the test set should be calculated and reported as well.\n",
    "### Feel free to use as many code cells as needed.\n",
    "\n",
    "with tf.Session() as sess:\n",
    "    sess.run(tf.global_variables_initializer())\n",
    "    num_examples = len(x_train)\n",
    "    \n",
    "    print(\"Training...\\n\")\n",
    " \n",
    "    for i in range(EPOCHS):\n",
    "        x_train, y_train = shuffle(x_train, y_train)\n",
    "        for offset in range(0, num_examples, BATCH_SIZE):\n",
    "            end = offset + BATCH_SIZE\n",
    "            batch_x, batch_y = x_train[offset:end], y_train[offset:end]\n",
    "            sess.run(training_operation, feed_dict={x: batch_x, y: batch_y, keep_prob: 0.5})\n",
    "           \n",
    "        print(\"EPOCH {} ...\".format(i+1))\n",
    "        training_accuracy = evaluate(x_train, y_train) \n",
    "        print(\"Training Accuracy = {:.3f}\".format(training_accuracy))\n",
    "        validation_accuracy = evaluate(x_valid, y_valid)\n",
    "        print(\"Validation Accuracy = {:.3f}\\n\".format(validation_accuracy))\n",
    "        \n",
    "    saver.save(sess, './lenet')\n",
    "    print(\"Model saved\")\n"
   ]
  },
  {
   "cell_type": "code",
   "execution_count": 38,
   "metadata": {},
   "outputs": [
    {
     "name": "stdout",
     "output_type": "stream",
     "text": [
      "WARNING:tensorflow:From /anaconda3/lib/python3.7/site-packages/tensorflow/python/training/saver.py:1266: checkpoint_exists (from tensorflow.python.training.checkpoint_management) is deprecated and will be removed in a future version.\n",
      "Instructions for updating:\n",
      "Use standard file APIs to check for files with this prefix.\n",
      "INFO:tensorflow:Restoring parameters from ./lenet\n",
      "Number of incorrect traffic signs = 212\n",
      "\n",
      "The most misclassified classes are: [(0, 83.33), (41, 60.0), (21, 46.67), (30, 30.0), (27, 26.67), (34, 20.0), (22, 13.33), (25, 13.33), (5, 11.43), (20, 10.0), (7, 7.33), (40, 6.67), (1, 3.75), (23, 3.33), (24, 3.33), (2, 2.08), (8, 2.0), (26, 1.67), (36, 1.67), (11, 1.33), (14, 1.11), (31, 1.11), (33, 1.11), (13, 0.83), (18, 0.83)]\n"
     ]
    },
    {
     "data": {
      "image/png": "[encoded data removed]",
      "text/plain": [
       "<Figure size 432x288 with 1 Axes>"
      ]
     },
     "metadata": {
      "needs_background": "light"
     },
     "output_type": "display_data"
    },
    {
     "data": {
      "image/png": "[encoded data removed]",
      "text/plain": [
       "<Figure size 432x288 with 1 Axes>"
      ]
     },
     "metadata": {
      "needs_background": "light"
     },
     "output_type": "display_data"
    }
   ],
   "source": [
    "# Get the misclassified labels of the validation set to verify what are the classes with most incorrect predictions\n",
    "with tf.Session() as sess:\n",
    "    saver.restore(sess, tf.train.latest_checkpoint('.'))\n",
    "    incorrect_labels = incorrect_predictions(x_valid, y_valid)\n",
    "        \n",
    "debug = True\n",
    "if debug:\n",
    "    \n",
    "    incorrect_traffic_signs = [i for idx, i in enumerate(y_valid) if incorrect_labels[idx]]\n",
    "    print(\"Number of incorrect traffic signs =\", len(incorrect_traffic_signs))\n",
    "\n",
    "    unique, counts = np.unique(y_valid, return_counts=True)\n",
    "    y_dict = dict(zip(unique, counts))\n",
    "\n",
    "    unique, counts = np.unique(incorrect_traffic_signs, return_counts=True)\n",
    "    incorr_dict = dict(zip(unique, counts))\n",
    "\n",
    "    loss_dict = {}\n",
    "    for key in incorr_dict:\n",
    "        loss_dict[key] = np.round(100*incorr_dict[key]/y_dict[key],2)\n",
    "\n",
    "    loss_dict = sorted(loss_dict.items(), key=lambda x: x[1],reverse=True)\n",
    "    print(\"\\nThe most misclassified classes are:\", loss_dict)\n",
    "\n",
    "    # Plotting\n",
    "    bins = np.arange(0, 44, 1)\n",
    "    plt.title('Histogram of traffic signs of the incorrect predictions')\n",
    "\n",
    "    plt.hist(incorrect_traffic_signs, bins=bins, alpha=0.5, rwidth=0.85)\n",
    "    plt.show()\n",
    "\n",
    "    plt.title('Histogram of traffic signs of the validation data set')\n",
    "    plt.hist(y_valid, bins=bins, alpha=0.5, rwidth=0.85)\n",
    "    plt.show()"
   ]
  },
  {
   "cell_type": "markdown",
   "metadata": {},
   "source": [
    "## Evaluate the Model\n",
    "Once I am completely satisfied with my model, I evaluate the performance of the model on the test set."
   ]
  },
  {
   "cell_type": "code",
   "execution_count": 25,
   "metadata": {},
   "outputs": [
    {
     "name": "stdout",
     "output_type": "stream",
     "text": [
      "INFO:tensorflow:Restoring parameters from ./lenet\n",
      "Test Accuracy = 0.909\n"
     ]
    }
   ],
   "source": [
    "with tf.Session() as sess:\n",
    "    saver.restore(sess, tf.train.latest_checkpoint('.'))\n",
    "\n",
    "    test_accuracy = evaluate(x_test, y_test)\n",
    "    print(\"Test Accuracy = {:.3f}\".format(test_accuracy))\n"
   ]
  },
  {
   "cell_type": "markdown",
   "metadata": {},
   "source": [
    "---\n",
    "\n",
    "## Step 3: Test a Model on New Images\n",
    "\n",
    "To give yourself more insight into how your model is working, download at least five pictures of German traffic signs from the web and use your model to predict the traffic sign type.\n",
    "\n",
    "You may find `signnames.csv` useful as it contains mappings from the class id (integer) to the actual sign name."
   ]
  },
  {
   "cell_type": "markdown",
   "metadata": {},
   "source": [
    "### Load and Output the Images"
   ]
  },
  {
   "cell_type": "code",
   "execution_count": 26,
   "metadata": {
    "collapsed": true
   },
   "outputs": [
    {
     "name": "stdout",
     "output_type": "stream",
     "text": [
      "Image 1 shape = (640, 640, 4)\n",
      "Image 2 shape = (640, 640, 4)\n",
      "Image 3 shape = (640, 640, 4)\n",
      "Image 4 shape = (564, 640, 4)\n",
      "Image 5 shape = (640, 640, 4)\n",
      "Image 6 shape = (640, 640, 4)\n"
     ]
    },
    {
     "data": {
      "image/png": "[encoded data removed]",
      "text/plain": [
       "<Figure size 864x864 with 6 Axes>"
      ]
     },
     "metadata": {
      "needs_background": "light"
     },
     "output_type": "display_data"
    }
   ],
   "source": [
    "### Load the images and plot them here.\n",
    "### Feel free to use as many code cells as needed.\n",
    "from glob import glob\n",
    "import matplotlib.image as mpimg\n",
    "\n",
    "## Load the traffic sign images downloaded from the web\n",
    "image_paths = glob('traffic-sign-images/*')\n",
    "\n",
    "n_images = len(image_paths)\n",
    "i = 0\n",
    "fig, axs = plt.subplots(1,n_images, figsize=(12, 12))\n",
    "\n",
    "# View the images\n",
    "for image_path in image_paths:\n",
    "    example = mpimg.imread(image_path)\n",
    "    axs[i].imshow(example)\n",
    "    axs[i].set_title(\"Image {0}\".format(i+1))\n",
    "    axs[i].get_xaxis().set_visible(False)\n",
    "    axs[i].get_yaxis().set_visible(False)\n",
    "    i += 1\n",
    "    \n",
    "    print(\"Image {0} shape =\".format(i), example.shape)\n",
    "    \n",
    "plt.show()\n",
    "\n",
    "# Looking into the file 'signnames.csv' we manually define the correct label for each image\n",
    "label = [0]*n_images\n",
    "label[0] = 10\n",
    "label[1] = 33\n",
    "label[2] = 35\n",
    "label[3] = 27\n",
    "label[4] = 15\n",
    "label[5] = 1"
   ]
  },
  {
   "cell_type": "markdown",
   "metadata": {},
   "source": [
    "### Predict the Sign Type for Each Image"
   ]
  },
  {
   "cell_type": "code",
   "execution_count": 27,
   "metadata": {
    "collapsed": true
   },
   "outputs": [
    {
     "name": "stdout",
     "output_type": "stream",
     "text": [
      "INFO:tensorflow:Restoring parameters from ./lenet\n",
      "Result =  [10 33 35 18 38  1]\n"
     ]
    }
   ],
   "source": [
    "### Run the predictions here and use the model to output the prediction for each image.\n",
    "### Make sure to pre-process the images with the same pre-processing pipeline used earlier.\n",
    "### Feel free to use as many code cells as needed.\n",
    "\n",
    "# Pre-processing the images by downsampling to 32x32x3 size, Convert to YUV color space, use the Y channel and normalize it\n",
    "norm_gray_images = np.zeros((n_images,32,32))\n",
    "\n",
    "i = 0\n",
    "a = 0.1\n",
    "b = 0.9  \n",
    "\n",
    "# View an example of an image\n",
    "for image_path in image_paths:\n",
    "    example = mpimg.imread(image_path)\n",
    "    \n",
    "    rgb = cv2.cvtColor(example, cv2.COLOR_RGBA2RGB)\n",
    "    rgb = cv2.resize(rgb, (32,32), interpolation=cv2.INTER_AREA)\n",
    "    \n",
    "    yuv = cv2.cvtColor(rgb,cv2.COLOR_RGB2YUV)\n",
    "    y_channel = yuv[:,:,0]\n",
    "\n",
    "    min_data = np.min(y_channel)\n",
    "    max_data = np.max(y_channel)\n",
    "    norm_gray_images[i] = a + ((y_channel - min_data)*(b-a))/(max_data - min_data)\n",
    "    \n",
    "    #plt.imshow(norm_gray_images[i])\n",
    "    #plt.show()\n",
    "    i += 1\n",
    "\n",
    "norm_gray_images = np.reshape(norm_gray_images, (n_images,32,32,1))\n",
    "\n",
    "# Predict the output using the model\n",
    "predictions = tf.argmax(logits, 1)\n",
    "\n",
    "with tf.Session() as sess:\n",
    "    saver.restore(sess, tf.train.latest_checkpoint('.'))\n",
    "    \n",
    "    result = sess.run(predictions, feed_dict={x: norm_gray_images, keep_prob: 1})\n",
    "    print(\"Result = \", result)    \n"
   ]
  },
  {
   "cell_type": "markdown",
   "metadata": {},
   "source": [
    "### Analyze Performance"
   ]
  },
  {
   "cell_type": "code",
   "execution_count": 28,
   "metadata": {
    "collapsed": true
   },
   "outputs": [
    {
     "name": "stdout",
     "output_type": "stream",
     "text": [
      "Accuracy = 0.667\n"
     ]
    }
   ],
   "source": [
    "### Calculate the accuracy for these 5 new images. \n",
    "### For example, if the model predicted 1 out of 5 signs correctly, it's 20% accurate on these new images.\n",
    "\n",
    "accuracy = sum(result == label)/n_images\n",
    "print(\"Accuracy = {:.3f}\".format(accuracy))"
   ]
  },
  {
   "cell_type": "markdown",
   "metadata": {},
   "source": [
    "### Output Top 5 Softmax Probabilities For Each Image Found on the Web"
   ]
  },
  {
   "cell_type": "markdown",
   "metadata": {},
   "source": [
    "For each of the new images, print out the model's softmax probabilities to show the **certainty** of the model's predictions (limit the output to the top 5 probabilities for each image). [`tf.nn.top_k`](https://www.tensorflow.org/versions/r0.12/api_docs/python/nn.html#top_k) could prove helpful here. \n",
    "\n",
    "The example below demonstrates how tf.nn.top_k can be used to find the top k predictions for each image.\n",
    "\n",
    "`tf.nn.top_k` will return the values and indices (class ids) of the top k predictions. So if k=3, for each sign, it'll return the 3 largest probabilities (out of a possible 43) and the correspoding class ids.\n",
    "\n",
    "Take this numpy array as an example. The values in the array represent predictions. The array contains softmax probabilities for five candidate images with six possible classes. `tf.nn.top_k` is used to choose the three classes with the highest probability:\n",
    "\n",
    "```\n",
    "# (5, 6) array\n",
    "a = np.array([[ 0.24879643,  0.07032244,  0.12641572,  0.34763842,  0.07893497,\n",
    "         0.12789202],\n",
    "       [ 0.28086119,  0.27569815,  0.08594638,  0.0178669 ,  0.18063401,\n",
    "         0.15899337],\n",
    "       [ 0.26076848,  0.23664738,  0.08020603,  0.07001922,  0.1134371 ,\n",
    "         0.23892179],\n",
    "       [ 0.11943333,  0.29198961,  0.02605103,  0.26234032,  0.1351348 ,\n",
    "         0.16505091],\n",
    "       [ 0.09561176,  0.34396535,  0.0643941 ,  0.16240774,  0.24206137,\n",
    "         0.09155967]])\n",
    "```\n",
    "\n",
    "Running it through `sess.run(tf.nn.top_k(tf.constant(a), k=3))` produces:\n",
    "\n",
    "```\n",
    "TopKV2(values=array([[ 0.34763842,  0.24879643,  0.12789202],\n",
    "       [ 0.28086119,  0.27569815,  0.18063401],\n",
    "       [ 0.26076848,  0.23892179,  0.23664738],\n",
    "       [ 0.29198961,  0.26234032,  0.16505091],\n",
    "       [ 0.34396535,  0.24206137,  0.16240774]]), indices=array([[3, 0, 5],\n",
    "       [0, 1, 4],\n",
    "       [0, 5, 1],\n",
    "       [1, 3, 5],\n",
    "       [1, 4, 3]], dtype=int32))\n",
    "```\n",
    "\n",
    "Looking just at the first row we get `[ 0.34763842,  0.24879643,  0.12789202]`, you can confirm these are the 3 largest probabilities in `a`. You'll also notice `[3, 0, 5]` are the corresponding indices."
   ]
  },
  {
   "cell_type": "code",
   "execution_count": 29,
   "metadata": {
    "collapsed": true
   },
   "outputs": [
    {
     "name": "stdout",
     "output_type": "stream",
     "text": [
      "INFO:tensorflow:Restoring parameters from ./lenet\n",
      "TopKV2(values=array([[6.78424895e-01, 8.71339142e-02, 8.35624039e-02, 5.48444353e-02,\n",
      "        4.48976532e-02],\n",
      "       [9.83343482e-01, 5.44974441e-03, 3.24858166e-03, 2.20164587e-03,\n",
      "        1.80314190e-03],\n",
      "       [9.99977589e-01, 1.66481022e-05, 2.53607504e-06, 1.22352583e-06,\n",
      "        1.16148738e-06],\n",
      "       [4.58014607e-01, 2.63851374e-01, 2.14679614e-01, 1.87775809e-02,\n",
      "        1.37488395e-02],\n",
      "       [2.80724019e-01, 1.87606722e-01, 1.52784720e-01, 1.51214197e-01,\n",
      "        5.71804717e-02],\n",
      "       [9.78459954e-01, 1.22794025e-02, 3.91163817e-03, 2.84835114e-03,\n",
      "        1.24615035e-03]], dtype=float32), indices=array([[10,  9, 23, 35, 20],\n",
      "       [33, 40, 25, 11, 37],\n",
      "       [35,  3, 20, 13, 36],\n",
      "       [18, 27, 11, 26, 24],\n",
      "       [38, 12, 15, 32, 13],\n",
      "       [ 1,  5,  3,  0,  6]], dtype=int32))\n"
     ]
    }
   ],
   "source": [
    "### Print out the top five softmax probabilities for the predictions on the German traffic sign images found on the web. \n",
    "### Feel free to use as many code cells as needed.\n",
    "\n",
    "top_k = tf.nn.top_k(tf.nn.softmax(logits), k=5)\n",
    "with tf.Session() as sess:\n",
    "    saver.restore(sess, tf.train.latest_checkpoint('.'))\n",
    "\n",
    "    top_labels = sess.run(top_k, feed_dict={x: norm_gray_images, keep_prob: 1})\n",
    "    \n",
    "print(top_labels)"
   ]
  },
  {
   "cell_type": "markdown",
   "metadata": {},
   "source": [
    "### Project Writeup\n",
    "\n",
    "Once you have completed the code implementation, document your results in a project writeup using this [template](https://github.com/udacity/CarND-Traffic-Sign-Classifier-Project/blob/master/writeup_template.md) as a guide. The writeup can be in a markdown or pdf file. "
   ]
  },
  {
   "cell_type": "markdown",
   "metadata": {},
   "source": [
    "> **Note**: Once you have completed all of the code implementations and successfully answered each question above, you may finalize your work by exporting the iPython Notebook as an HTML document. You can do this by using the menu above and navigating to  \\n\",\n",
    "    \"**File -> Download as -> HTML (.html)**. Include the finished document along with this notebook as your submission."
   ]
  },
  {
   "cell_type": "markdown",
   "metadata": {},
   "source": [
    "---\n",
    "\n",
    "## Step 4 (Optional): Visualize the Neural Network's State with Test Images\n",
    "\n",
    " This Section is not required to complete but acts as an additional excersise for understaning the output of a neural network's weights. While neural networks can be a great learning device they are often referred to as a black box. We can understand what the weights of a neural network look like better by plotting their feature maps. After successfully training your neural network you can see what it's feature maps look like by plotting the output of the network's weight layers in response to a test stimuli image. From these plotted feature maps, it's possible to see what characteristics of an image the network finds interesting. For a sign, maybe the inner network feature maps react with high activation to the sign's boundary outline or to the contrast in the sign's painted symbol.\n",
    "\n",
    " Provided for you below is the function code that allows you to get the visualization output of any tensorflow weight layer you want. The inputs to the function should be a stimuli image, one used during training or a new one you provided, and then the tensorflow variable name that represents the layer's state during the training process, for instance if you wanted to see what the [LeNet lab's](https://classroom.udacity.com/nanodegrees/nd013/parts/fbf77062-5703-404e-b60c-95b78b2f3f9e/modules/6df7ae49-c61c-4bb2-a23e-6527e69209ec/lessons/601ae704-1035-4287-8b11-e2c2716217ad/concepts/d4aca031-508f-4e0b-b493-e7b706120f81) feature maps looked like for it's second convolutional layer you could enter conv2 as the tf_activation variable.\n",
    "\n",
    "For an example of what feature map outputs look like, check out NVIDIA's results in their paper [End-to-End Deep Learning for Self-Driving Cars](https://devblogs.nvidia.com/parallelforall/deep-learning-self-driving-cars/) in the section Visualization of internal CNN State. NVIDIA was able to show that their network's inner weights had high activations to road boundary lines by comparing feature maps from an image with a clear path to one without. Try experimenting with a similar test to show that your trained network's weights are looking for interesting features, whether it's looking at differences in feature maps from images with or without a sign, or even what feature maps look like in a trained network vs a completely untrained one on the same sign image.\n",
    "\n",
    "<figure>\n",
    " <img src=\"visualize_cnn.png\" width=\"380\" alt=\"Combined Image\" />\n",
    " <figcaption>\n",
    " <p></p> \n",
    " <p style=\"text-align: center;\"> Your output should look something like this (above)</p> \n",
    " </figcaption>\n",
    "</figure>\n",
    " <p></p> \n"
   ]
  },
  {
   "cell_type": "code",
   "execution_count": 36,
   "metadata": {
    "collapsed": true
   },
   "outputs": [],
   "source": [
    "### Visualize your network's feature maps here.\n",
    "### Feel free to use as many code cells as needed.\n",
    "\n",
    "# image_input: the test image being fed into the network to produce the feature maps\n",
    "# tf_activation: should be a tf variable name used during your training procedure that represents the calculated state of a specific weight layer\n",
    "# activation_min/max: can be used to view the activation contrast in more detail, by default matplot sets min and max to the actual min and max values of the output\n",
    "# plt_num: used to plot out multiple different weight feature map sets on the same block, just extend the plt number for each new feature map entry\n",
    "\n",
    "def outputFeatureMap(image_input, tf_activation, activation_min=-1, activation_max=-1 ,plt_num=1):\n",
    "    # Here make sure to preprocess your image_input in a way your network expects\n",
    "    # with size, normalization, ect if needed\n",
    "    # image_input =\n",
    "    # Note: x should be the same name as your network's tensorflow data placeholder variable\n",
    "    # If you get an error tf_activation is not defined it may be having trouble accessing the variable from inside a function\n",
    "    activation = tf_activation.eval(session=sess,feed_dict={x : image_input, keep_prob: 1})\n",
    "    featuremaps = activation.shape[3]\n",
    "    plt.figure(plt_num, figsize=(15,15))\n",
    "    for featuremap in range(featuremaps):\n",
    "        plt.subplot(6,8, featuremap+1) # sets the number of feature maps to show on each row and column\n",
    "        plt.title('FeatureMap ' + str(featuremap)) # displays the feature map number\n",
    "        if activation_min != -1 & activation_max != -1:\n",
    "            plt.imshow(activation[0,:,:, featuremap], interpolation=\"nearest\", vmin =activation_min, vmax=activation_max, cmap=\"gray\")\n",
    "        elif activation_max != -1:\n",
    "            plt.imshow(activation[0,:,:, featuremap], interpolation=\"nearest\", vmax=activation_max, cmap=\"gray\")\n",
    "        elif activation_min !=-1:\n",
    "            plt.imshow(activation[0,:,:, featuremap], interpolation=\"nearest\", vmin=activation_min, cmap=\"gray\")\n",
    "        else:\n",
    "            plt.imshow(activation[0,:,:, featuremap], interpolation=\"nearest\", cmap=\"gray\")"
   ]
  },
  {
   "cell_type": "code",
   "execution_count": 38,
   "metadata": {
    "collapsed": true
   },
   "outputs": [
    {
     "name": "stdout",
     "output_type": "stream",
     "text": [
      "INFO:tensorflow:Restoring parameters from ./lenet\n"
     ]
    },
    {
     "data": {
      "image/png": "[encoded data removed]",
      "text/plain": [
       "<Figure size 1080x1080 with 32 Axes>"
      ]
     },
     "metadata": {
      "needs_background": "light"
     },
     "output_type": "display_data"
    }
   ],
   "source": [
    "with tf.Session() as sess:\n",
    "    saver.restore(sess, tf.train.latest_checkpoint('.'))\n",
    "        \n",
    "    image_input = norm_gray_images[4].reshape(1, 32,32,1)\n",
    "    tf_activation = layer_1\n",
    "    outputFeatureMap(image_input, tf_activation, activation_min=-1, activation_max=-1 ,plt_num=1)"
   ]
  },
  {
   "cell_type": "code",
   "execution_count": null,
   "metadata": {},
   "outputs": [],
   "source": []
  }
 ],
 "metadata": {
  "anaconda-cloud": {},
  "kernelspec": {
   "display_name": "Python 3",
   "language": "python",
   "name": "python3"
  },
  "language_info": {
   "codemirror_mode": {
    "name": "ipython",
    "version": 3
   },
   "file_extension": ".py",
   "mimetype": "text/x-python",
   "name": "python",
   "nbconvert_exporter": "python",
   "pygments_lexer": "ipython3",
   "version": "3.7.1"
  }
 },
 "nbformat": 4,
 "nbformat_minor": 2
}
